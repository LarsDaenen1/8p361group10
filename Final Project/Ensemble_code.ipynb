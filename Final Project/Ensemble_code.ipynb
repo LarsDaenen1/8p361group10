{
 "cells": [
  {
   "cell_type": "markdown",
   "id": "24a2ea30",
   "metadata": {},
   "source": [
    "#### Import everthing needed"
   ]
  },
  {
   "cell_type": "code",
   "execution_count": 8,
   "id": "e6c553de",
   "metadata": {},
   "outputs": [],
   "source": [
    "#import tensorflow and sklearn stuff\n",
    "import os\n",
    "os.environ['TF_CPP_MIN_LOG_LEVEL'] = '3'  # or any {'0', '1', '2'}   \n",
    "import tensorflow as tf\n",
    "\n",
    "import numpy as np\n",
    "\n",
    "from tensorflow.keras.preprocessing.image import ImageDataGenerator\n",
    "from tensorflow.keras.models import Model\n",
    "from tensorflow.keras.layers import Input, Dense, GlobalAveragePooling2D, Dropout\n",
    "from tensorflow.keras.optimizers import SGD\n",
    "from tensorflow.keras.callbacks import ModelCheckpoint, TensorBoard\n",
    "from sklearn.metrics import roc_curve, auc\n",
    "\n",
    "#import models\n",
    "from tensorflow.keras.applications.resnet_v2 import ResNet152V2, preprocess_input\n",
    "from tensorflow.keras.applications.efficientnet import EfficientNetB5\n",
    "from tensorflow.keras.applications.xception import Xception\n",
    "from tensorflow.keras.applications.vgg16 import VGG16\n",
    "Models_list = [ResNet152V2, EfficientNetB5, Xception, VGG16]"
   ]
  },
  {
   "cell_type": "markdown",
   "id": "1954fa4e",
   "metadata": {},
   "source": [
    "#### function for training in batches"
   ]
  },
  {
   "cell_type": "code",
   "execution_count": 2,
   "id": "994d7d73",
   "metadata": {},
   "outputs": [],
   "source": [
    "\n",
    "def get_pcam_generators(base_dir, train_batch_size=32, val_batch_size=32):\n",
    "\n",
    "     # dataset parameters\n",
    "     train_path = os.path.join(base_dir, 'train+val', 'train')\n",
    "     valid_path = os.path.join(base_dir, 'train+val', 'valid')\n",
    "\n",
    "     # instantiate data generators\n",
    "     datagen = ImageDataGenerator(preprocessing_function=preprocess_input)\n",
    "\n",
    "     train_gen = datagen.flow_from_directory(train_path,\n",
    "                                             target_size=(IMAGE_SIZE, IMAGE_SIZE),\n",
    "                                             batch_size=train_batch_size,\n",
    "                                             class_mode='binary')\n",
    "\n",
    "     val_gen = datagen.flow_from_directory(valid_path,\n",
    "                                             target_size=(IMAGE_SIZE, IMAGE_SIZE),\n",
    "                                             batch_size=val_batch_size,\n",
    "                                             class_mode='binary')\n",
    "\n",
    "     return train_gen, val_gen"
   ]
  },
  {
   "cell_type": "markdown",
   "id": "cecfb8f4",
   "metadata": {},
   "source": [
    "#### define image size"
   ]
  },
  {
   "cell_type": "code",
   "execution_count": 3,
   "id": "6dca02c3",
   "metadata": {},
   "outputs": [],
   "source": [
    "IMAGE_SIZE = 96\n",
    "\n",
    "input_shape = (IMAGE_SIZE, IMAGE_SIZE, 3)\n",
    "\n",
    "model_input = Input(input_shape)"
   ]
  },
  {
   "cell_type": "markdown",
   "id": "b95c5e0a",
   "metadata": {},
   "source": [
    "#### load models with weights"
   ]
  },
  {
   "cell_type": "code",
   "execution_count": 4,
   "id": "19b8a6a6",
   "metadata": {},
   "outputs": [
    {
     "name": "stdout",
     "output_type": "stream",
     "text": [
      "Downloading data from https://storage.googleapis.com/keras-applications/efficientnetb5_notop.h5\n",
      "115269632/115263384 [==============================] - 9s 0us/step\n",
      "115277824/115263384 [==============================] - 9s 0us/step\n",
      "Downloading data from https://storage.googleapis.com/tensorflow/keras-applications/vgg16/vgg16_weights_tf_dim_ordering_tf_kernels_notop.h5\n",
      "58892288/58889256 [==============================] - 4s 0us/step\n",
      "58900480/58889256 [==============================] - 4s 0us/step\n",
      "Downloading data from https://storage.googleapis.com/tensorflow/keras-applications/xception/xception_weights_tf_dim_ordering_tf_kernels_notop.h5\n",
      "83689472/83683744 [==============================] - 6s 0us/step\n",
      "83697664/83683744 [==============================] - 6s 0us/step\n"
     ]
    }
   ],
   "source": [
    "pretrained_ResNet = ResNet152V2(input_shape=input_shape, include_top=False, weights='imagenet')\n",
    "pretrained_EfficientNet = EfficientNetB5(input_shape=input_shape, include_top=False, weights='imagenet')\n",
    "pretrained_VGG = VGG16(input_shape=input_shape, include_top=False, weights='imagenet')\n",
    "pretrained_Xception = Xception(input_shape=input_shape, include_top=False, weights='imagenet')\n",
    "\n",
    "## maybe do use include_top=True??"
   ]
  },
  {
   "cell_type": "markdown",
   "id": "c6a1ed6c",
   "metadata": {},
   "source": [
    "## creating average ensemble"
   ]
  },
  {
   "cell_type": "code",
   "execution_count": 12,
   "id": "3564c06b",
   "metadata": {},
   "outputs": [
    {
     "name": "stdout",
     "output_type": "stream",
     "text": [
      "Model: \"model_7\"\n",
      "__________________________________________________________________________________________________\n",
      " Layer (type)                   Output Shape         Param #     Connected to                     \n",
      "==================================================================================================\n",
      " input_1 (InputLayer)           [(None, 96, 96, 3)]  0           []                               \n",
      "                                                                                                  \n",
      " resnet152v2 (Functional)       (None, 3, 3, 2048)   58331648    ['input_1[0][0]']                \n",
      "                                                                                                  \n",
      " efficientnetb5 (Functional)    (None, 3, 3, 2048)   28513527    ['input_1[0][0]']                \n",
      "                                                                                                  \n",
      " vgg16 (Functional)             (None, 3, 3, 512)    14714688    ['input_1[0][0]']                \n",
      "                                                                                                  \n",
      " xception (Functional)          (None, 3, 3, 2048)   20861480    ['input_1[0][0]']                \n",
      "                                                                                                  \n",
      " global_average_pooling2d_4 (Gl  (None, 2048)        0           ['resnet152v2[4][0]']            \n",
      " obalAveragePooling2D)                                                                            \n",
      "                                                                                                  \n",
      " global_average_pooling2d_5 (Gl  (None, 2048)        0           ['efficientnetb5[4][0]']         \n",
      " obalAveragePooling2D)                                                                            \n",
      "                                                                                                  \n",
      " global_average_pooling2d_6 (Gl  (None, 512)         0           ['vgg16[4][0]']                  \n",
      " obalAveragePooling2D)                                                                            \n",
      "                                                                                                  \n",
      " global_average_pooling2d_7 (Gl  (None, 2048)        0           ['xception[4][0]']               \n",
      " obalAveragePooling2D)                                                                            \n",
      "                                                                                                  \n",
      " dropout_4 (Dropout)            (None, 2048)         0           ['global_average_pooling2d_4[0][0\n",
      "                                                                 ]']                              \n",
      "                                                                                                  \n",
      " dropout_5 (Dropout)            (None, 2048)         0           ['global_average_pooling2d_5[0][0\n",
      "                                                                 ]']                              \n",
      "                                                                                                  \n",
      " dropout_6 (Dropout)            (None, 512)          0           ['global_average_pooling2d_6[0][0\n",
      "                                                                 ]']                              \n",
      "                                                                                                  \n",
      " dropout_7 (Dropout)            (None, 2048)         0           ['global_average_pooling2d_7[0][0\n",
      "                                                                 ]']                              \n",
      "                                                                                                  \n",
      " dense_12 (Dense)               (None, 1)            2049        ['dropout_4[0][0]']              \n",
      "                                                                                                  \n",
      " dense_13 (Dense)               (None, 1)            2049        ['dropout_5[0][0]']              \n",
      "                                                                                                  \n",
      " dense_14 (Dense)               (None, 1)            513         ['dropout_6[0][0]']              \n",
      "                                                                                                  \n",
      " dense_15 (Dense)               (None, 1)            2049        ['dropout_7[0][0]']              \n",
      "                                                                                                  \n",
      " average_8 (Average)            (None, 1)            0           ['dense_12[0][0]',               \n",
      "                                                                  'dense_13[0][0]',               \n",
      "                                                                  'dense_14[0][0]',               \n",
      "                                                                  'dense_15[0][0]']               \n",
      "                                                                                                  \n",
      "==================================================================================================\n",
      "Total params: 122,428,003\n",
      "Trainable params: 122,056,988\n",
      "Non-trainable params: 371,015\n",
      "__________________________________________________________________________________________________\n",
      "Found 144000 images belonging to 2 classes.\n",
      "Found 16000 images belonging to 2 classes.\n"
     ]
    }
   ],
   "source": [
    "#average ensemble\n",
    "models = [pretrained_ResNet, pretrained_EfficientNet, pretrained_VGG, pretrained_Xception]\n",
    "model_outputs = [Dense(1, activation = 'sigmoid')(Dropout(0.5)(GlobalAveragePooling2D()(model(model_input)))) for model in models]\n",
    "ensemble_average_output = tf.keras.layers.Average()(model_outputs)\n",
    "ensemble_average_model = Model(inputs=model_input, outputs=ensemble_average_output)\n",
    "\n",
    "ensemble_average_model.compile(SGD(lr=0.001, momentum=0.95), loss = 'binary_crossentropy', metrics=['accuracy'])\n",
    "ensemble_average_model.summary()\n",
    "\n",
    "# get the data generators\n",
    "train_gen, val_gen = get_pcam_generators(r'C:\\Users\\20192236\\Documents\\Project_Imaging')"
   ]
  },
  {
   "cell_type": "markdown",
   "id": "3afb0fc1",
   "metadata": {},
   "source": [
    "#### saving the model"
   ]
  },
  {
   "cell_type": "code",
   "execution_count": 17,
   "id": "9873e945",
   "metadata": {},
   "outputs": [],
   "source": [
    "ensemble_average_model_name = 'Ensemble_average_model'\n",
    "ensemble_average_model_filepath = ensemble_average_model_name + '.json'\n",
    "ensemble_average_weights_filepath = ensemble_average_model_name + '_weights.hdf5'\n",
    "\n",
    "ensemble_average_model_json = ensemble_average_model.to_json() # serialize model to JSON\n",
    "with open(ensemble_average_model_filepath, 'w') as json_file:\n",
    "    json_file.write(ensemble_average_model_json)\n",
    "    \n",
    "# define the model checkpoint and Tensorboard callbacks\n",
    "checkpoint = ModelCheckpoint(ensemble_average_weights_filepath, monitor='val_loss', verbose=1, save_best_only=True, mode='min')\n",
    "tensorboard = TensorBoard(os.path.join('logs', ensemble_average_model_name))\n",
    "callbacks_list = [checkpoint, tensorboard]"
   ]
  },
  {
   "cell_type": "markdown",
   "id": "d5da1a52",
   "metadata": {},
   "source": [
    "#### Training the model"
   ]
  },
  {
   "cell_type": "code",
   "execution_count": 15,
   "id": "5b08124f",
   "metadata": {},
   "outputs": [],
   "source": [
    "train_steps = train_gen.n//train_gen.batch_size//20\n",
    "val_steps = val_gen.n//val_gen.batch_size//20\n",
    "\n",
    "history = ensemble_average_model.fit_generator(train_gen, steps_per_epoch=train_steps,\n",
    "                    validation_steps=val_steps,validation_data=val_gen,\n",
    "                    epochs=10,\n",
    "                    callbacks=callbacks_list, shuffle=False)\n"
   ]
  },
  {
   "cell_type": "markdown",
   "id": "4758dc95",
   "metadata": {},
   "source": [
    "#### Metrics"
   ]
  },
  {
   "cell_type": "code",
   "execution_count": null,
   "id": "fc1fbe30",
   "metadata": {},
   "outputs": [],
   "source": [
    "import matplotlib.pyplot as plt\n",
    "\n",
    "ensemble_average_model = tf.keras.models.load_model(ensemble_average_weights_filepath)\n",
    "y_pred = ensemble_average_model.predict(val_gen, verbose=1).ravel()\n",
    "y_true = val_gen.labels\n",
    "\n",
    "fpr, tpr, thresholds = roc_curve(y_true, y_pred)\n",
    "from sklearn.metrics import auc\n",
    "auc = auc(fpr, tpr)\n",
    "\n",
    "plt.figure(1)\n",
    "plt.plot([0, 1], [0, 1], 'k--')\n",
    "plt.plot(fpr, tpr, label='Keras (area = {:.3f})'.format(auc))\n",
    "plt.xlabel('False positive rate')\n",
    "plt.ylabel('True positive rate')\n",
    "plt.title('ROC curve for ensemble_average_model')\n",
    "plt.legend(loc='best')\n",
    "plt.show()"
   ]
  },
  {
   "cell_type": "markdown",
   "id": "a5cd0252",
   "metadata": {},
   "source": [
    "## Create voting ensemble"
   ]
  },
  {
   "cell_type": "code",
   "execution_count": null,
   "id": "3ffbdbc5",
   "metadata": {},
   "outputs": [
    {
     "name": "stderr",
     "output_type": "stream",
     "text": [
      "C:\\Users\\20192236\\AppData\\Local\\Temp/ipykernel_19612/4089109777.py:9: UserWarning: `Model.fit_generator` is deprecated and will be removed in a future version. Please use `Model.fit`, which supports generators.\n",
      "  models[i].fit_generator(train_gen, steps_per_epoch=train_steps,\n"
     ]
    },
    {
     "name": "stdout",
     "output_type": "stream",
     "text": [
      " 85/225 [==========>...................] - ETA: 9:18 - loss: 0.7021 - accuracy: 0.6055"
     ]
    }
   ],
   "source": [
    "models = [pretrained_ResNet, pretrained_EfficientNet, pretrained_VGG, pretrained_Xception]\n",
    "model_outputs = [Dense(1, activation = 'sigmoid')(Dropout(0.5)(GlobalAveragePooling2D()(model(model_input)))) for model in models]\n",
    "models = [Model(model_input, model_outputs[i]) for i in range(len(model_outputs))]\n",
    "for m in models:\n",
    "    m.compile(SGD(lr=0.001, momentum=0.95), loss = 'binary_crossentropy', metrics=['accuracy'])\n",
    "\n",
    "model_results = []\n",
    "for i in range(len(models)):\n",
    "    models[i].fit_generator(train_gen, steps_per_epoch=train_steps,\n",
    "                    validation_steps=val_steps,validation_data=val_gen,\n",
    "                    epochs=10, shuffle=False)\n",
    "    model_results.append(models[i])"
   ]
  },
  {
   "cell_type": "code",
   "execution_count": null,
   "id": "a013e463",
   "metadata": {},
   "outputs": [],
   "source": [
    "model_results"
   ]
  },
  {
   "cell_type": "code",
   "execution_count": null,
   "id": "5c198feb",
   "metadata": {},
   "outputs": [],
   "source": [
    "# Predict labels with models\n",
    "labels = []\n",
    "for m in model_results:\n",
    "    predicts = np.argmax(m.predict(val_gen), axis=1)\n",
    "    labels.append(predicts)\n",
    "    \n",
    "# Ensemble with voting\n",
    "labels = np.array(labels)\n",
    "labels = np.transpose(labels, (1, 0))\n",
    "labels = scipy.stats.mode(labels, axis=-1)[0]\n",
    "labels = np.squeeze(labels)"
   ]
  },
  {
   "cell_type": "markdown",
   "id": "faf6f8e0",
   "metadata": {},
   "source": [
    "#### metrics"
   ]
  },
  {
   "cell_type": "code",
   "execution_count": null,
   "id": "03f51cec",
   "metadata": {},
   "outputs": [],
   "source": [
    "fpr, tpr, thresholds = roc_curve(y_true, labels)\n",
    "from sklearn.metrics import auc\n",
    "auc = auc(fpr, tpr)\n",
    "\n",
    "plt.figure(1)\n",
    "plt.plot([0, 1], [0, 1], 'k--')\n",
    "plt.plot(fpr, tpr, label='Keras (area = {:.3f})'.format(auc))\n",
    "plt.xlabel('False positive rate')\n",
    "plt.ylabel('True positive rate')\n",
    "plt.title('ROC curve for ensemble_voting_model')\n",
    "plt.legend(loc='best')\n",
    "plt.show()"
   ]
  },
  {
   "cell_type": "code",
   "execution_count": null,
   "id": "d9e1dabc",
   "metadata": {},
   "outputs": [],
   "source": []
  },
  {
   "cell_type": "code",
   "execution_count": null,
   "id": "00827b6f",
   "metadata": {},
   "outputs": [],
   "source": []
  },
  {
   "cell_type": "code",
   "execution_count": null,
   "id": "5ab689ab",
   "metadata": {},
   "outputs": [],
   "source": []
  }
 ],
 "metadata": {
  "kernelspec": {
   "display_name": "Python 3 (ipykernel)",
   "language": "python",
   "name": "python3"
  },
  "language_info": {
   "codemirror_mode": {
    "name": "ipython",
    "version": 3
   },
   "file_extension": ".py",
   "mimetype": "text/x-python",
   "name": "python",
   "nbconvert_exporter": "python",
   "pygments_lexer": "ipython3",
   "version": "3.8.12"
  }
 },
 "nbformat": 4,
 "nbformat_minor": 5
}
