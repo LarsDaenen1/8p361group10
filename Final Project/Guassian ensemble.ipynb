{
 "cells": [
  {
   "cell_type": "markdown",
   "id": "e8bdbe78",
   "metadata": {},
   "source": [
    "Loading data"
   ]
  },
  {
   "cell_type": "code",
   "execution_count": 86,
   "id": "c9a735a8",
   "metadata": {},
   "outputs": [],
   "source": [
    "import pandas as pd\n",
    "import numpy as np\n",
    "from scipy import stats\n",
    "\n",
    "df_inception_old = pd.read_csv (r'C:\\Users\\20192236\\Downloads\\Good data\\Good data\\Inception_submission.csv')\n",
    "df_efficient_old = pd.read_csv (r'C:\\Users\\20192236\\Downloads\\Good data\\Good data\\EfficientNet_submission.csv')\n",
    "df_resnet_old = pd.read_csv (r'C:\\Users\\20192236\\Downloads\\Good data\\Good data\\ResNet_submission.csv')\n",
    "df_Mobile_old = pd.read_csv (r'C:\\Users\\20192236\\Downloads\\Good data\\Good data\\MobileNetV2_submission.csv')\n",
    "df_xception_old = pd.read_csv (r'C:\\Users\\20192236\\Downloads\\Good data\\Good data\\Xception_submission.csv')\n",
    "\n",
    "df_inception = df_inception_old.rename(columns={'label':'label_inception'}, errors='raise')\n",
    "df_efficient = df_efficient_old.rename(columns={'label':'label_efficient'}, errors='raise')\n",
    "df_resnet = df_resnet_old.rename(columns={'label':'label_resnet'}, errors='raise')\n",
    "df_mobile = df_vgg16_old.rename(columns={'label':'label_mobile'}, errors='raise')\n",
    "df_xception = df_xception_old.rename(columns={'label':'label_xception'}, errors='raise')\n",
    "\n",
    "all_probs = pd.DataFrame(data=[df_inception['id'], df_inception['label_inception'], df_xception['label_xception'], df_efficient['label_efficient'], df_resnet['label_resnet'], df_mobile['label_mobile']])\n",
    "all_probs = all_probs.transpose()"
   ]
  },
  {
   "cell_type": "markdown",
   "id": "60f20a0d",
   "metadata": {},
   "source": [
    "Making predictions"
   ]
  },
  {
   "cell_type": "code",
   "execution_count": 87,
   "id": "3c6960a6",
   "metadata": {},
   "outputs": [],
   "source": [
    "mu = []\n",
    "sigma = []\n",
    "for i in range(len(all_probs)):\n",
    "    mu.append(np.mean(all_probs.iloc[i, 1:6].values))\n",
    "    sigma.append(np.std(all_probs.iloc[i, 1:6].values))"
   ]
  },
  {
   "cell_type": "code",
   "execution_count": 88,
   "id": "21c61678",
   "metadata": {},
   "outputs": [],
   "source": [
    "def predict_Bayes_class(X,mu_list,sigma_list): \n",
    "    #Returns the predicted class from an optimal bayes classifier - distributions must be known\n",
    "    scores_list = []\n",
    "    classes = len(mu_list)\n",
    "    \n",
    "    for p in range(classes):\n",
    "        score = stats.multivariate_normal.pdf(X, mean=mu_list[p], cov=sigma_list[p])\n",
    "        scores_list.append(score)\n",
    "             \n",
    "    return np.argmax(scores_list)"
   ]
  },
  {
   "cell_type": "code",
   "execution_count": 89,
   "id": "588fdfb9",
   "metadata": {},
   "outputs": [],
   "source": [
    "pred = []\n",
    "for i in range(len(all_probs)):\n",
    "        pred.append(predict_Bayes_class(all_probs.iloc[i, 1:6].values, [mu[i]], [sigma[i]]))"
   ]
  },
  {
   "cell_type": "code",
   "execution_count": 90,
   "id": "baafce21",
   "metadata": {},
   "outputs": [],
   "source": [
    "proba_list = []\n",
    "proba_list_round = []\n",
    "for i in range(len(pred)):\n",
    "    if pred[i] == 0:\n",
    "        proba_list.append(all_probs.iloc[i, 1])\n",
    "    elif pred[i] == 1:\n",
    "        proba_list.append(all_probs.iloc[i, 2])\n",
    "    elif pred[i] == 2:\n",
    "        proba_list.append(all_probs.iloc[i, 3])\n",
    "    elif pred[i] == 3:\n",
    "        proba_list.append(all_probs.iloc[i, 4])\n",
    "    elif pred[i] == 4:\n",
    "        proba_list.append(all_probs.iloc[i, 5])\n",
    "    proba_list_round.append(int(round(proba_list[i], 0)))\n",
    "proba_list\n",
    "\n",
    "df = pd.DataFrame(proba_list)\n",
    "df = df.set_index(all_probs['id'])\n",
    "df = df.rename(columns={0: \"label\"})\n",
    "\n",
    "df.to_csv(r\"C:\\Users\\20192236\\Documents\\Project_Imaging\\BOC.csv\")"
   ]
  },
  {
   "cell_type": "markdown",
   "id": "5cea233c",
   "metadata": {},
   "source": [
    "The second difficulty in BOC is choosing the prior probability for each hypothesis p(hi). For simplicity, the prior is usually set to be the uniform distribution [30]."
   ]
  }
 ],
 "metadata": {
  "kernelspec": {
   "display_name": "Python 3 (ipykernel)",
   "language": "python",
   "name": "python3"
  },
  "language_info": {
   "codemirror_mode": {
    "name": "ipython",
    "version": 3
   },
   "file_extension": ".py",
   "mimetype": "text/x-python",
   "name": "python",
   "nbconvert_exporter": "python",
   "pygments_lexer": "ipython3",
   "version": "3.8.12"
  }
 },
 "nbformat": 4,
 "nbformat_minor": 5
}
