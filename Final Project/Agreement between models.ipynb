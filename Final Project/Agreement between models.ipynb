{
 "cells": [
  {
   "cell_type": "code",
   "execution_count": 62,
   "id": "a2f850ce",
   "metadata": {
    "scrolled": true
   },
   "outputs": [
    {
     "data": {
      "image/png": "[encoded data removed]",
      "text/plain": [
       "<Figure size 432x288 with 1 Axes>"
      ]
     },
     "metadata": {
      "needs_background": "light"
     },
     "output_type": "display_data"
    }
   ],
   "source": [
    "import pandas as pd\n",
    "import matplotlib.pyplot as plt\n",
    "\n",
    "path = r\"C:\\\\Users\\\\larsd\\\\OneDrive - TU Eindhoven\\\\Universiteit\\\\Jaar 3\\\\Kwartiel 3\\\\8P361 - Project Imaging\\\\Good data\\\\\"\n",
    "model_names = [\"EfficientNet\", \"Inception\", \"ResNet\", \"MobileNetV2\", \"Xception\"]\n",
    "\n",
    "df0 = pd.read_csv(path+model_names[0]+\"_submission.csv\")\n",
    "df0 = df0.rename(columns={'label': model_names[0]})\n",
    "\n",
    "df1 = pd.read_csv(path+model_names[1]+\"_submission.csv\")\n",
    "df1 = df1.rename(columns={'label': model_names[1]})\n",
    "\n",
    "df2 = pd.read_csv(path+model_names[2]+\"_submission.csv\")\n",
    "df2 = df2.rename(columns={'label': model_names[2]})\n",
    "\n",
    "df3 = pd.read_csv(path+model_names[3]+\"_submission.csv\")\n",
    "df3 = df3.rename(columns={'label': model_names[3]})\n",
    "\n",
    "df4 = pd.read_csv(path+model_names[4]+\"_submission.csv\")\n",
    "df4 = df4.rename(columns={'label': model_names[4]})\n",
    "\n",
    "df = pd.merge(df0, df1)\n",
    "df = pd.merge(df, df2)\n",
    "df = pd.merge(df, df3)\n",
    "df = pd.merge(df, df4)\n",
    "\n",
    "for model in model_names:\n",
    "    df.loc[df[model] < 0.5, model] = 0\n",
    "    df.loc[df[model] >= 0.5, model] = 1\n",
    "df = df.iloc[1:,1:].astype(int)\n",
    "df\n",
    "\n",
    "df[\"Sum\"] = df[\"EfficientNet\"] + df[\"Inception\"] + df[\"ResNet\"] + df[\"MobileNetV2\"] + df[\"Xception\"]\n",
    "\n",
    "labels = [0,1,2,3,4,5]\n",
    "sums = list(df[\"Sum\"])\n",
    "\n",
    "counts = []\n",
    "for i in range(6):\n",
    "    counts.append(sums.count(i)/len(sums))\n",
    "plt.bar(labels,counts)\n",
    "plt.title(\"Distribution of agreement\")\n",
    "plt.xlabel(\"Sum of binary predictions\")\n",
    "plt.ylabel(\"Relative probability\")\n",
    "\n",
    "plt.savefig(\"Distribution of agreement between models.png\")"
   ]
  }
 ],
 "metadata": {
  "kernelspec": {
   "display_name": "Python 3 (ipykernel)",
   "language": "python",
   "name": "python3"
  },
  "language_info": {
   "codemirror_mode": {
    "name": "ipython",
    "version": 3
   },
   "file_extension": ".py",
   "mimetype": "text/x-python",
   "name": "python",
   "nbconvert_exporter": "python",
   "pygments_lexer": "ipython3",
   "version": "3.8.12"
  }
 },
 "nbformat": 4,
 "nbformat_minor": 5
}
