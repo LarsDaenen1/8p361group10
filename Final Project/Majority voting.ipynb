{
 "cells": [
  {
   "cell_type": "code",
   "execution_count": 25,
   "id": "4b0b7439",
   "metadata": {},
   "outputs": [
    {
     "name": "stdout",
     "output_type": "stream",
     "text": [
      "57458\n"
     ]
    }
   ],
   "source": [
    "import pandas as pd\n",
    "import csv\n",
    "import numpy as np\n",
    "path = r\"C:\\\\Users\\\\larsd\\\\OneDrive - TU Eindhoven\\\\Universiteit\\\\Jaar 3\\\\Kwartiel 3\\\\8P361 - Project Imaging\\\\Good data\\\\\"\n",
    "model_names = [\"EfficientNet\", \"Inception\", \"ResNet\", \"MobileNetV2\", \"Xception\"]\n",
    "N = 57458\n",
    "\n",
    "def majority_voting(path, model_names, N, extremes=True):\n",
    "    data = {\"id\": [], \"label\": [ [] for _ in range(N) ]}\n",
    "    for i in range(len(model_names)):\n",
    "        model = model_names[i]\n",
    "        filepath = path + model + \"_submission.csv\"\n",
    "        csv_file = open(filepath)\n",
    "        csv_reader = csv.reader(csv_file, delimiter=',')\n",
    "        ids = []\n",
    "        labels = []\n",
    "        for row in csv_reader:\n",
    "            ids.append(row[0])\n",
    "            labels.append(row[1])\n",
    "        ids = ids[1:]\n",
    "        labels = labels[1:]\n",
    "        for j in range(N):\n",
    "            data[\"id\"].append(ids[j])\n",
    "            data[\"label\"][j].append(float(labels[j]))\n",
    "    data[\"id\"] = list(dict.fromkeys(data[\"id\"]))\n",
    "\n",
    "    classes = []\n",
    "    for i in range(N):\n",
    "        sum_ = 0\n",
    "        for j in range(5):\n",
    "            sum_ += round(data[\"label\"][i][j])\n",
    "        classes.append(round(sum_/5))    \n",
    "    \n",
    "    preds = {\"id\": data[\"id\"], \"label\": []}\n",
    "    \n",
    "    if extremes == False:\n",
    "        for i in range(N):\n",
    "            avg = []\n",
    "            for j in range(5):\n",
    "                if round(data[\"label\"][i][j]) == classes[i]:\n",
    "                    avg.append(data[\"label\"][i][j])\n",
    "            avg = np.mean(avg)\n",
    "            preds[\"label\"].append(avg)  \n",
    "    \n",
    "    if extremes == True:\n",
    "        for i in range(N):\n",
    "            if classes[i] == 0:\n",
    "                preds[\"label\"].append(min(data[\"label\"][i]))\n",
    "            else:\n",
    "                preds[\"label\"].append(max(data[\"label\"][i]))            \n",
    "            \n",
    "    df = pd.DataFrame(preds)\n",
    "    df = df.set_index(\"id\")\n",
    "    \n",
    "    if extremes == False:\n",
    "        df.to_csv(r\"C:\\Users\\larsd\\OneDrive - TU Eindhoven\\Universiteit\\Jaar 3\\Kwartiel 3\\8P361 - Project Imaging\\majority_voting_submission.csv\")\n",
    "    else:\n",
    "        df.to_csv(r\"C:\\Users\\larsd\\OneDrive - TU Eindhoven\\Universiteit\\Jaar 3\\Kwartiel 3\\8P361 - Project Imaging\\majority_voting_extremes_submission.csv\")\n",
    "\n",
    "        \n",
    "majority_voting(path, model_names, N, extremes=True)"
   ]
  }
 ],
 "metadata": {
  "kernelspec": {
   "display_name": "Python 3 (ipykernel)",
   "language": "python",
   "name": "python3"
  },
  "language_info": {
   "codemirror_mode": {
    "name": "ipython",
    "version": 3
   },
   "file_extension": ".py",
   "mimetype": "text/x-python",
   "name": "python",
   "nbconvert_exporter": "python",
   "pygments_lexer": "ipython3",
   "version": "3.8.12"
  }
 },
 "nbformat": 4,
 "nbformat_minor": 5
}
