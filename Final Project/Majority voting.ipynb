{
 "cells": [
  {
   "cell_type": "code",
   "execution_count": null,
   "id": "a7d1e003",
   "metadata": {},
   "outputs": [],
   "source": [
    "import pandas as pd\n",
    "import csv\n",
    "import numpy as np\n",
    "path = r\"C:\\\\Users\\\\larsd\\\\OneDrive - TU Eindhoven\\\\Universiteit\\\\Jaar 3\\\\Kwartiel 3\\\\8P361 - Project Imaging\\\\Good data\\\\\"\n",
    "model_names = [\"EfficientNet\", \"Inception\", \"ResNet\", \"MobileNetV2\", \"Xception\"]\n",
    "\n",
    "data = {\"id\": [], \"label\": [[],[],[],[],[]]}\n",
    "for i in range(len(model_names)):\n",
    "    model = model_names[i]\n",
    "    filepath = path + model + \"_submission.csv\"\n",
    "    csv_file = open(filepath)\n",
    "    csv_reader = csv.reader(csv_file, delimiter=',')\n",
    "    ids = []\n",
    "    labels = []\n",
    "    for row in csv_reader:\n",
    "        ids.append(row[0])\n",
    "        labels.append(row[1])\n",
    "    for j in range(1, len(ids)):\n",
    "        data[\"id\"].append(ids[j])\n",
    "        data[\"label\"][i].append(float(labels[j]))\n",
    "data[\"id\"] = list(dict.fromkeys(data[\"id\"]))\n",
    "\n",
    "classes = []\n",
    "for i in range(len(data[\"id\"])):\n",
    "    sum_ = 0\n",
    "    for j in range(5):\n",
    "        sum_ += round(data[\"label\"][j][i])\n",
    "    classes.append(round(sum_/5))\n",
    " \n",
    "    \n",
    "preds = {\"id\": data[\"id\"], \"label\": []}    \n",
    "for i in range(len(data[\"id\"])):\n",
    "    avg = []\n",
    "    for j in range(5):\n",
    "        if round(data[\"label\"][j][i]) == classes[i]:\n",
    "            avg.append(data[\"label\"][j][i])\n",
    "    avg = np.mean(avg)\n",
    "    preds[\"label\"].append(avg)\n",
    "\n",
    "df = pd.DataFrame(preds)\n",
    "df = df.set_index(\"id\")\n",
    "\n",
    "df.to_csv(r\"C:\\Users\\larsd\\OneDrive - TU Eindhoven\\Universiteit\\Jaar 3\\Kwartiel 3\\8P361 - Project Imaging\\majority_voting_submission.csv\")"
   ]
  }
 ],
 "metadata": {
  "kernelspec": {
   "display_name": "Python 3 (ipykernel)",
   "language": "python",
   "name": "python3"
  },
  "language_info": {
   "codemirror_mode": {
    "name": "ipython",
    "version": 3
   },
   "file_extension": ".py",
   "mimetype": "text/x-python",
   "name": "python",
   "nbconvert_exporter": "python",
   "pygments_lexer": "ipython3",
   "version": "3.8.12"
  }
 },
 "nbformat": 4,
 "nbformat_minor": 5
}
