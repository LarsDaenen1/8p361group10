{
 "cells": [
  {
   "cell_type": "code",
   "execution_count": 1,
   "id": "c1c705e6",
   "metadata": {},
   "outputs": [],
   "source": [
    "import os\n",
    "\n",
    "import numpy as np\n",
    "import matplotlib.pyplot as plt\n",
    "import json\n",
    "\n",
    "import tensorflow\n",
    "from tensorflow.keras.preprocessing.image import ImageDataGenerator\n",
    "from tensorflow.keras.models import Sequential\n",
    "from tensorflow.keras.layers import Dense, Flatten\n",
    "from tensorflow.keras.layers import Conv2D, MaxPool2D\n",
    "from tensorflow.keras.optimizers import SGD\n",
    "from tensorflow.keras.callbacks import ModelCheckpoint, TensorBoard\n",
    "from tensorflow.keras.initializers import glorot_uniform\n",
    "from tensorflow.keras.models import model_from_json\n",
    "\n",
    "# unused for now, to be used for ROC analysis\n",
    "from sklearn.metrics import roc_curve, auc\n",
    "\n",
    "\n",
    "\n",
    "# the size of the images in the PCAM dataset\n",
    "IMAGE_SIZE = 96\n"
   ]
  },
  {
   "cell_type": "code",
   "execution_count": 2,
   "id": "56bb8aab",
   "metadata": {},
   "outputs": [],
   "source": [
    "def get_pcam_generators(base_dir, train_batch_size=32, val_batch_size=32):\n",
    "\n",
    "     # dataset parameters\n",
    "     TRAIN_PATH = os.path.join(base_dir, 'train+val', 'train')\n",
    "     VALID_PATH = os.path.join(base_dir, 'train+val', 'valid')\n",
    "\n",
    "     RESCALING_FACTOR = 1./255\n",
    "     \n",
    "     # instantiate data generators\n",
    "     datagen = ImageDataGenerator(rescale=RESCALING_FACTOR)\n",
    "\n",
    "     train_gen = datagen.flow_from_directory(TRAIN_PATH,\n",
    "                                             target_size=(IMAGE_SIZE, IMAGE_SIZE),\n",
    "                                             batch_size=train_batch_size,\n",
    "                                             class_mode='binary')\n",
    "\n",
    "     val_gen = datagen.flow_from_directory(VALID_PATH,\n",
    "                                             target_size=(IMAGE_SIZE, IMAGE_SIZE),\n",
    "                                             batch_size=val_batch_size,\n",
    "                                             class_mode='binary',\n",
    "                                             shuffle=False)\n",
    "     \n",
    "     return train_gen, val_gen"
   ]
  },
  {
   "cell_type": "code",
   "execution_count": 3,
   "id": "06360629",
   "metadata": {},
   "outputs": [],
   "source": [
    "def get_model(kernel_size=(3,3), pool_size=(4,4), first_filters=32, second_filters=64):\n",
    "\n",
    "\n",
    "     # build the model\n",
    "     model = Sequential()\n",
    "\n",
    "     model.add(Conv2D(first_filters, kernel_size, activation = 'relu', padding = 'same', input_shape = (IMAGE_SIZE, IMAGE_SIZE, 3)))\n",
    "     model.add(MaxPool2D(pool_size = pool_size)) \n",
    "\n",
    "     model.add(Conv2D(second_filters, kernel_size, activation = 'relu', padding = 'same'))\n",
    "     model.add(MaxPool2D(pool_size = pool_size))\n",
    "\n",
    "     model.add(Flatten())\n",
    "     model.add(Dense(64, activation = 'relu'))\n",
    "     model.add(Dense(1, activation = 'sigmoid'))\n",
    "     \n",
    "    \n",
    "     # compile the model\n",
    "     model.compile(SGD(lr=0.01, momentum=0.95), loss = 'binary_crossentropy', metrics=['accuracy'])\n",
    "\n",
    "     return model"
   ]
  },
  {
   "cell_type": "code",
   "execution_count": 4,
   "id": "f4902f4d",
   "metadata": {},
   "outputs": [
    {
     "name": "stderr",
     "output_type": "stream",
     "text": [
      "C:\\Users\\20192653\\Anaconda3\\envs\\8p361\\lib\\site-packages\\keras\\optimizer_v2\\gradient_descent.py:102: UserWarning: The `lr` argument is deprecated, use `learning_rate` instead.\n",
      "  super(SGD, self).__init__(name, **kwargs)\n"
     ]
    },
    {
     "name": "stdout",
     "output_type": "stream",
     "text": [
      "Found 144000 images belonging to 2 classes.\n",
      "Found 16000 images belonging to 2 classes.\n"
     ]
    }
   ],
   "source": [
    "# get the model\n",
    "model = get_model()\n",
    "\n",
    "# get the data generators\n",
    "train_gen, val_gen = get_pcam_generators(r'C:\\Users\\20192653\\Documents\\8P361 - Project imaging\\8p361-project-imaging-master\\8p361-project-imaging-master\\data')"
   ]
  },
  {
   "cell_type": "code",
   "execution_count": 5,
   "id": "1810ab68",
   "metadata": {},
   "outputs": [
    {
     "name": "stdout",
     "output_type": "stream",
     "text": [
      "(None, 96, 96, 32)\n",
      "(None, 24, 24, 32)\n",
      "(None, 24, 24, 64)\n",
      "(None, 6, 6, 64)\n",
      "(None, 2304)\n",
      "(None, 64)\n",
      "(None, 1)\n"
     ]
    }
   ],
   "source": [
    "for layer in model.layers:\n",
    "    print(layer.output_shape)"
   ]
  },
  {
   "cell_type": "code",
   "execution_count": 6,
   "id": "85cb1055",
   "metadata": {
    "scrolled": true
   },
   "outputs": [
    {
     "name": "stdout",
     "output_type": "stream",
     "text": [
      "Epoch 1/3\n",
      "4500/4500 [==============================] - ETA: 0s - loss: 0.4741 - accuracy: 0.7773\n",
      "Epoch 1: val_loss improved from inf to 0.43162, saving model to my_first_cnn_model_weights.hdf5\n",
      "4500/4500 [==============================] - 991s 220ms/step - loss: 0.4741 - accuracy: 0.7773 - val_loss: 0.4316 - val_accuracy: 0.8054\n",
      "Epoch 2/3\n",
      "4500/4500 [==============================] - ETA: 0s - loss: 0.3904 - accuracy: 0.8273\n",
      "Epoch 2: val_loss improved from 0.43162 to 0.40600, saving model to my_first_cnn_model_weights.hdf5\n",
      "4500/4500 [==============================] - 437s 97ms/step - loss: 0.3904 - accuracy: 0.8273 - val_loss: 0.4060 - val_accuracy: 0.8158\n",
      "Epoch 3/3\n",
      "4500/4500 [==============================] - ETA: 0s - loss: 0.3417 - accuracy: 0.8535\n",
      "Epoch 3: val_loss improved from 0.40600 to 0.32352, saving model to my_first_cnn_model_weights.hdf5\n",
      "4500/4500 [==============================] - 496s 110ms/step - loss: 0.3417 - accuracy: 0.8535 - val_loss: 0.3235 - val_accuracy: 0.8562\n"
     ]
    }
   ],
   "source": [
    "# save the model and weights\n",
    "model_name = 'my_first_cnn_model'\n",
    "model_filepath = model_name + '.json'\n",
    "weights_filepath = model_name + '_weights.hdf5'\n",
    "\n",
    "model_json = model.to_json() # serialize model to JSON\n",
    "with open(model_filepath, 'w') as json_file:\n",
    "    json_file.write(model_json) \n",
    "\n",
    "\n",
    "# define the model checkpoint and Tensorboard callbacks\n",
    "checkpoint = ModelCheckpoint(weights_filepath, monitor='val_loss', verbose=1, save_best_only=True, mode='min')\n",
    "tensorboard = TensorBoard(os.path.join('logs', model_name))\n",
    "callbacks_list = [checkpoint, tensorboard]\n",
    "\n",
    "\n",
    "# train the model\n",
    "train_steps = train_gen.n//train_gen.batch_size\n",
    "val_steps = val_gen.n//val_gen.batch_size\n",
    "\n",
    "history = model.fit(train_gen, steps_per_epoch=train_steps, \n",
    "                    validation_data=val_gen,\n",
    "                    validation_steps=val_steps,\n",
    "                    epochs=3,\n",
    "                    callbacks=callbacks_list)"
   ]
  },
  {
   "cell_type": "code",
   "execution_count": 7,
   "id": "793795d6",
   "metadata": {},
   "outputs": [],
   "source": [
    "import winsound\n",
    "winsound.Beep(1000,1000)"
   ]
  },
  {
   "cell_type": "markdown",
   "id": "47e7b230",
   "metadata": {},
   "source": [
    "# Exercise 1"
   ]
  },
  {
   "cell_type": "code",
   "execution_count": 8,
   "id": "06ff1853",
   "metadata": {},
   "outputs": [
    {
     "name": "stdout",
     "output_type": "stream",
     "text": [
      "Model: \"sequential\"\n",
      "_________________________________________________________________\n",
      " Layer (type)                Output Shape              Param #   \n",
      "=================================================================\n",
      " conv2d (Conv2D)             (None, 96, 96, 32)        896       \n",
      "                                                                 \n",
      " max_pooling2d (MaxPooling2D  (None, 24, 24, 32)       0         \n",
      " )                                                               \n",
      "                                                                 \n",
      " conv2d_1 (Conv2D)           (None, 24, 24, 64)        18496     \n",
      "                                                                 \n",
      " max_pooling2d_1 (MaxPooling  (None, 6, 6, 64)         0         \n",
      " 2D)                                                             \n",
      "                                                                 \n",
      " flatten (Flatten)           (None, 2304)              0         \n",
      "                                                                 \n",
      " dense (Dense)               (None, 64)                147520    \n",
      "                                                                 \n",
      " dense_1 (Dense)             (None, 1)                 65        \n",
      "                                                                 \n",
      "=================================================================\n",
      "Total params: 166,977\n",
      "Trainable params: 166,977\n",
      "Non-trainable params: 0\n",
      "_________________________________________________________________\n"
     ]
    }
   ],
   "source": [
    "model = tensorflow.keras.models.load_model('my_first_cnn_model_weights.hdf5')\n",
    "model.summary()"
   ]
  },
  {
   "cell_type": "code",
   "execution_count": 9,
   "id": "5251c47a",
   "metadata": {},
   "outputs": [],
   "source": [
    "y_pred_keras=model.predict(val_gen).ravel()"
   ]
  },
  {
   "cell_type": "code",
   "execution_count": 10,
   "id": "9b731871",
   "metadata": {},
   "outputs": [],
   "source": [
    "y_true = val_gen.labels"
   ]
  },
  {
   "cell_type": "code",
   "execution_count": 11,
   "id": "578284b5",
   "metadata": {},
   "outputs": [],
   "source": [
    "fpr_keras, tpr_keras, thresholds_keras = roc_curve(y_true, y_pred_keras)\n",
    "auc_keras = auc(fpr_keras, tpr_keras)"
   ]
  },
  {
   "cell_type": "code",
   "execution_count": 12,
   "id": "8612d3e4",
   "metadata": {},
   "outputs": [
    {
     "data": {
      "image/png": "[encoded data removed]",
      "text/plain": [
       "<Figure size 432x288 with 1 Axes>"
      ]
     },
     "metadata": {
      "needs_background": "light"
     },
     "output_type": "display_data"
    },
    {
     "data": {
      "image/png": "[encoded data removed]",
      "text/plain": [
       "<Figure size 432x288 with 1 Axes>"
      ]
     },
     "metadata": {
      "needs_background": "light"
     },
     "output_type": "display_data"
    }
   ],
   "source": [
    "plt.figure(1)\n",
    "plt.plot([0, 1], [0, 1], 'k--')\n",
    "plt.plot(fpr_keras, tpr_keras, label='Keras (area = {:.3f})'.format(auc_keras))\n",
    "plt.xlabel('False positive rate')\n",
    "plt.ylabel('True positive rate')\n",
    "plt.title('ROC curve')\n",
    "plt.legend(loc='best')\n",
    "plt.show()\n",
    "# Zoom in view of the upper left corner.\n",
    "plt.figure(2)\n",
    "plt.xlim(0, 0.8)\n",
    "plt.ylim(0.7, 1)\n",
    "plt.plot([0, 1], [0, 1], 'k--')\n",
    "plt.plot(fpr_keras, tpr_keras, label='Keras (area = {:.3f})'.format(auc_keras))\n",
    "plt.xlabel('False positive rate')\n",
    "plt.ylabel('True positive rate')\n",
    "plt.title('ROC curve (zoomed in at top left)')\n",
    "plt.legend(loc='best')\n",
    "plt.show()"
   ]
  },
  {
   "cell_type": "markdown",
   "id": "a020b23e",
   "metadata": {},
   "source": [
    "## Exercise 2"
   ]
  },
  {
   "cell_type": "code",
   "execution_count": 79,
   "id": "93e2aa11",
   "metadata": {},
   "outputs": [
    {
     "name": "stdout",
     "output_type": "stream",
     "text": [
      "Model: \"sequential_43\"\n",
      "_________________________________________________________________\n",
      " Layer (type)                Output Shape              Param #   \n",
      "=================================================================\n",
      " conv2d_133 (Conv2D)         (None, 96, 96, 32)        896       \n",
      "                                                                 \n",
      " max_pooling2d_86 (MaxPoolin  (None, 24, 24, 32)       0         \n",
      " g2D)                                                            \n",
      "                                                                 \n",
      " conv2d_134 (Conv2D)         (None, 24, 24, 64)        18496     \n",
      "                                                                 \n",
      " max_pooling2d_87 (MaxPoolin  (None, 6, 6, 64)         0         \n",
      " g2D)                                                            \n",
      "                                                                 \n",
      " conv2d_135 (Conv2D)         (None, 1, 1, 64)          147520    \n",
      "                                                                 \n",
      " conv2d_136 (Conv2D)         (None, 1, 1, 1)           65        \n",
      "                                                                 \n",
      " flatten_25 (Flatten)        (None, 1)                 0         \n",
      "                                                                 \n",
      "=================================================================\n",
      "Total params: 166,977\n",
      "Trainable params: 166,977\n",
      "Non-trainable params: 0\n",
      "_________________________________________________________________\n"
     ]
    }
   ],
   "source": [
    "def get_model2(kernel_size=(3,3), pool_size=(4,4), first_filters=32, second_filters=64):\n",
    "\n",
    "\n",
    "     # build the model\n",
    "     model = Sequential()\n",
    "\n",
    "     model.add(Conv2D(first_filters, kernel_size, activation = 'relu', padding = 'same', input_shape = (IMAGE_SIZE, IMAGE_SIZE, 3)))\n",
    "     model.add(MaxPool2D(pool_size = pool_size)) \n",
    "\n",
    "     model.add(Conv2D(second_filters, kernel_size, activation = 'relu', padding = 'same'))\n",
    "     model.add(MaxPool2D(pool_size = pool_size))\n",
    "     model.add(Conv2D(64, [6,6], activation = 'relu', padding = 'valid'))\n",
    "     model.add(Conv2D(1,[1,1],activation='sigmoid', padding='same'))\n",
    "    \n",
    "     # compile the model\n",
    "     model.compile(SGD(lr=0.01, momentum=0.95), loss = 'binary_crossentropy', metrics=['accuracy'])\n",
    "     model.add(Flatten())\n",
    "\n",
    "     return model\n",
    "    \n",
    "model2 = get_model2()\n",
    "model2.summary()\n"
   ]
  },
  {
   "cell_type": "code",
   "execution_count": 65,
   "id": "0e42e92a",
   "metadata": {},
   "outputs": [
    {
     "name": "stdout",
     "output_type": "stream",
     "text": [
      "(None, 96, 96, 32)\n",
      "(None, 24, 24, 32)\n",
      "(None, 24, 24, 64)\n",
      "(None, 6, 6, 64)\n",
      "(None, 1, 1, 64)\n",
      "(None, 1, 1, 1)\n"
     ]
    }
   ],
   "source": [
    "for layer in model2.layers:\n",
    "    print(layer.output_shape)"
   ]
  },
  {
   "cell_type": "code",
   "execution_count": 69,
   "id": "4202c36a",
   "metadata": {},
   "outputs": [
    {
     "name": "stdout",
     "output_type": "stream",
     "text": [
      "Epoch 1/3\n",
      "4500/4500 [==============================] - ETA: 0s - loss: 0.4786 - accuracy: 0.7740\n",
      "Epoch 1: val_loss improved from inf to 0.43433, saving model to my_second_cnn_model_weights.hdf5\n",
      "4500/4500 [==============================] - 417s 93ms/step - loss: 0.4786 - accuracy: 0.7740 - val_loss: 0.4343 - val_accuracy: 0.8049\n",
      "Epoch 2/3\n",
      "4500/4500 [==============================] - ETA: 0s - loss: 0.3951 - accuracy: 0.8257\n",
      "Epoch 2: val_loss improved from 0.43433 to 0.34679, saving model to my_second_cnn_model_weights.hdf5\n",
      "4500/4500 [==============================] - 1236s 275ms/step - loss: 0.3951 - accuracy: 0.8257 - val_loss: 0.3468 - val_accuracy: 0.8490\n",
      "Epoch 3/3\n",
      "4500/4500 [==============================] - ETA: 0s - loss: 0.3410 - accuracy: 0.8527\n",
      "Epoch 3: val_loss improved from 0.34679 to 0.33089, saving model to my_second_cnn_model_weights.hdf5\n",
      "4500/4500 [==============================] - 352s 78ms/step - loss: 0.3410 - accuracy: 0.8527 - val_loss: 0.3309 - val_accuracy: 0.8558\n"
     ]
    }
   ],
   "source": [
    "# save the model and weights\n",
    "model_name = 'my_second_cnn_model'\n",
    "model_filepath = model_name + '.json'\n",
    "weights_filepath = model_name + '_weights.hdf5'\n",
    "\n",
    "model_json = model2.to_json() # serialize model to JSON\n",
    "with open(model_filepath, 'w') as json_file:\n",
    "    json_file.write(model_json) \n",
    "\n",
    "\n",
    "# define the model checkpoint and Tensorboard callbacks\n",
    "checkpoint = ModelCheckpoint(weights_filepath, monitor='val_loss', verbose=1, save_best_only=True, mode='min')\n",
    "tensorboard = TensorBoard(os.path.join('logs', model_name))\n",
    "callbacks_list = [checkpoint, tensorboard]\n",
    "\n",
    "\n",
    "# train the model\n",
    "train_steps = train_gen.n//train_gen.batch_size\n",
    "val_steps = val_gen.n//val_gen.batch_size\n",
    "\n",
    "history = model2.fit(train_gen, steps_per_epoch=train_steps, \n",
    "                    validation_data=val_gen,\n",
    "                    validation_steps=val_steps,\n",
    "                    epochs=3,\n",
    "                    callbacks=callbacks_list)"
   ]
  },
  {
   "cell_type": "markdown",
   "id": "41102c0d",
   "metadata": {},
   "source": [
    "why: feature learning? (not sure because same behaviour)\n",
    "butit is nice to only use convolutions\n",
    "nstead of putting 2304 in a row and connecting them all to 64 others =~ 147456 parameters (ergens 1 erbij om 147520 te krijgen)\n",
    "a 6x6 kernel can be used on 64 filters to create 64 new filters -> 6*6*64*64 =~ 147456 parameters\n",
    "then a 1x1 kernel can be used on these 64 filters to create one final filter, this one can be flattened.\n",
    "\n",
    "Cool to only use convolution?\n",
    "\n",
    "computational efficiency? but no because equal parameters\n",
    "\n",
    "    "
   ]
  },
  {
   "cell_type": "code",
   "execution_count": null,
   "id": "c7fdd1ea",
   "metadata": {},
   "outputs": [],
   "source": []
  }
 ],
 "metadata": {
  "kernelspec": {
   "display_name": "Python 3 (ipykernel)",
   "language": "python",
   "name": "python3"
  },
  "language_info": {
   "codemirror_mode": {
    "name": "ipython",
    "version": 3
   },
   "file_extension": ".py",
   "mimetype": "text/x-python",
   "name": "python",
   "nbconvert_exporter": "python",
   "pygments_lexer": "ipython3",
   "version": "3.8.12"
  }
 },
 "nbformat": 4,
 "nbformat_minor": 5
}
